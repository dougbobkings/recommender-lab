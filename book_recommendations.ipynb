{
 "cells": [
  {
   "cell_type": "code",
   "execution_count": 70,
   "metadata": {},
   "outputs": [],
   "source": [
    "from surprise import SVD, NMF, Dataset, Reader, accuracy, KNNBaseline\n",
    "from surprise.model_selection import cross_validate, train_test_split\n",
    "import pandas as pd\n",
    "import numpy as np\n",
    "from main import get_top_n"
   ]
  },
  {
   "cell_type": "markdown",
   "metadata": {},
   "source": [
    "### Load the data. Split into Train and Test."
   ]
  },
  {
   "cell_type": "code",
   "execution_count": 5,
   "metadata": {},
   "outputs": [],
   "source": [
    "r = pd.read_csv('ratings.csv')\n",
    "tr = pd.read_csv('to_read.csv')\n",
    "b = pd.read_csv('books.csv')\n",
    "\n",
    "t = pd.read_csv('tags.csv')\n",
    "bt = pd.read_csv('book_tags.csv')"
   ]
  },
  {
   "cell_type": "markdown",
   "metadata": {},
   "source": [
    "### Create a User/Book ratings matrix using NMF."
   ]
  },
  {
   "cell_type": "code",
   "execution_count": 6,
   "metadata": {},
   "outputs": [
    {
     "data": {
      "text/html": [
       "<div>\n",
       "<style scoped>\n",
       "    .dataframe tbody tr th:only-of-type {\n",
       "        vertical-align: middle;\n",
       "    }\n",
       "\n",
       "    .dataframe tbody tr th {\n",
       "        vertical-align: top;\n",
       "    }\n",
       "\n",
       "    .dataframe thead th {\n",
       "        text-align: right;\n",
       "    }\n",
       "</style>\n",
       "<table border=\"1\" class=\"dataframe\">\n",
       "  <thead>\n",
       "    <tr style=\"text-align: right;\">\n",
       "      <th></th>\n",
       "      <th>book_id</th>\n",
       "      <th>goodreads_book_id</th>\n",
       "      <th>best_book_id</th>\n",
       "      <th>work_id</th>\n",
       "      <th>books_count</th>\n",
       "      <th>isbn</th>\n",
       "      <th>isbn13</th>\n",
       "      <th>authors</th>\n",
       "      <th>original_publication_year</th>\n",
       "      <th>original_title</th>\n",
       "      <th>...</th>\n",
       "      <th>work_text_reviews_count</th>\n",
       "      <th>ratings_1</th>\n",
       "      <th>ratings_2</th>\n",
       "      <th>ratings_3</th>\n",
       "      <th>ratings_4</th>\n",
       "      <th>ratings_5</th>\n",
       "      <th>image_url</th>\n",
       "      <th>small_image_url</th>\n",
       "      <th>user_id</th>\n",
       "      <th>rating</th>\n",
       "    </tr>\n",
       "  </thead>\n",
       "  <tbody>\n",
       "    <tr>\n",
       "      <th>0</th>\n",
       "      <td>1</td>\n",
       "      <td>2767052</td>\n",
       "      <td>2767052</td>\n",
       "      <td>2792775</td>\n",
       "      <td>272</td>\n",
       "      <td>439023483</td>\n",
       "      <td>9.780439e+12</td>\n",
       "      <td>Suzanne Collins</td>\n",
       "      <td>2008.0</td>\n",
       "      <td>The Hunger Games</td>\n",
       "      <td>...</td>\n",
       "      <td>155254</td>\n",
       "      <td>66715</td>\n",
       "      <td>127936</td>\n",
       "      <td>560092</td>\n",
       "      <td>1481305</td>\n",
       "      <td>2706317</td>\n",
       "      <td>https://images.gr-assets.com/books/1447303603m...</td>\n",
       "      <td>https://images.gr-assets.com/books/1447303603s...</td>\n",
       "      <td>2886</td>\n",
       "      <td>5</td>\n",
       "    </tr>\n",
       "    <tr>\n",
       "      <th>1</th>\n",
       "      <td>1</td>\n",
       "      <td>2767052</td>\n",
       "      <td>2767052</td>\n",
       "      <td>2792775</td>\n",
       "      <td>272</td>\n",
       "      <td>439023483</td>\n",
       "      <td>9.780439e+12</td>\n",
       "      <td>Suzanne Collins</td>\n",
       "      <td>2008.0</td>\n",
       "      <td>The Hunger Games</td>\n",
       "      <td>...</td>\n",
       "      <td>155254</td>\n",
       "      <td>66715</td>\n",
       "      <td>127936</td>\n",
       "      <td>560092</td>\n",
       "      <td>1481305</td>\n",
       "      <td>2706317</td>\n",
       "      <td>https://images.gr-assets.com/books/1447303603m...</td>\n",
       "      <td>https://images.gr-assets.com/books/1447303603s...</td>\n",
       "      <td>6158</td>\n",
       "      <td>5</td>\n",
       "    </tr>\n",
       "    <tr>\n",
       "      <th>2</th>\n",
       "      <td>1</td>\n",
       "      <td>2767052</td>\n",
       "      <td>2767052</td>\n",
       "      <td>2792775</td>\n",
       "      <td>272</td>\n",
       "      <td>439023483</td>\n",
       "      <td>9.780439e+12</td>\n",
       "      <td>Suzanne Collins</td>\n",
       "      <td>2008.0</td>\n",
       "      <td>The Hunger Games</td>\n",
       "      <td>...</td>\n",
       "      <td>155254</td>\n",
       "      <td>66715</td>\n",
       "      <td>127936</td>\n",
       "      <td>560092</td>\n",
       "      <td>1481305</td>\n",
       "      <td>2706317</td>\n",
       "      <td>https://images.gr-assets.com/books/1447303603m...</td>\n",
       "      <td>https://images.gr-assets.com/books/1447303603s...</td>\n",
       "      <td>3991</td>\n",
       "      <td>4</td>\n",
       "    </tr>\n",
       "    <tr>\n",
       "      <th>3</th>\n",
       "      <td>1</td>\n",
       "      <td>2767052</td>\n",
       "      <td>2767052</td>\n",
       "      <td>2792775</td>\n",
       "      <td>272</td>\n",
       "      <td>439023483</td>\n",
       "      <td>9.780439e+12</td>\n",
       "      <td>Suzanne Collins</td>\n",
       "      <td>2008.0</td>\n",
       "      <td>The Hunger Games</td>\n",
       "      <td>...</td>\n",
       "      <td>155254</td>\n",
       "      <td>66715</td>\n",
       "      <td>127936</td>\n",
       "      <td>560092</td>\n",
       "      <td>1481305</td>\n",
       "      <td>2706317</td>\n",
       "      <td>https://images.gr-assets.com/books/1447303603m...</td>\n",
       "      <td>https://images.gr-assets.com/books/1447303603s...</td>\n",
       "      <td>5281</td>\n",
       "      <td>5</td>\n",
       "    </tr>\n",
       "    <tr>\n",
       "      <th>4</th>\n",
       "      <td>1</td>\n",
       "      <td>2767052</td>\n",
       "      <td>2767052</td>\n",
       "      <td>2792775</td>\n",
       "      <td>272</td>\n",
       "      <td>439023483</td>\n",
       "      <td>9.780439e+12</td>\n",
       "      <td>Suzanne Collins</td>\n",
       "      <td>2008.0</td>\n",
       "      <td>The Hunger Games</td>\n",
       "      <td>...</td>\n",
       "      <td>155254</td>\n",
       "      <td>66715</td>\n",
       "      <td>127936</td>\n",
       "      <td>560092</td>\n",
       "      <td>1481305</td>\n",
       "      <td>2706317</td>\n",
       "      <td>https://images.gr-assets.com/books/1447303603m...</td>\n",
       "      <td>https://images.gr-assets.com/books/1447303603s...</td>\n",
       "      <td>5721</td>\n",
       "      <td>5</td>\n",
       "    </tr>\n",
       "  </tbody>\n",
       "</table>\n",
       "<p>5 rows × 25 columns</p>\n",
       "</div>"
      ],
      "text/plain": [
       "   book_id  goodreads_book_id  best_book_id  work_id  books_count       isbn  \\\n",
       "0        1            2767052       2767052  2792775          272  439023483   \n",
       "1        1            2767052       2767052  2792775          272  439023483   \n",
       "2        1            2767052       2767052  2792775          272  439023483   \n",
       "3        1            2767052       2767052  2792775          272  439023483   \n",
       "4        1            2767052       2767052  2792775          272  439023483   \n",
       "\n",
       "         isbn13          authors  original_publication_year    original_title  \\\n",
       "0  9.780439e+12  Suzanne Collins                     2008.0  The Hunger Games   \n",
       "1  9.780439e+12  Suzanne Collins                     2008.0  The Hunger Games   \n",
       "2  9.780439e+12  Suzanne Collins                     2008.0  The Hunger Games   \n",
       "3  9.780439e+12  Suzanne Collins                     2008.0  The Hunger Games   \n",
       "4  9.780439e+12  Suzanne Collins                     2008.0  The Hunger Games   \n",
       "\n",
       "   ... work_text_reviews_count ratings_1  ratings_2  ratings_3  ratings_4  \\\n",
       "0  ...                  155254     66715     127936     560092    1481305   \n",
       "1  ...                  155254     66715     127936     560092    1481305   \n",
       "2  ...                  155254     66715     127936     560092    1481305   \n",
       "3  ...                  155254     66715     127936     560092    1481305   \n",
       "4  ...                  155254     66715     127936     560092    1481305   \n",
       "\n",
       "   ratings_5                                          image_url  \\\n",
       "0    2706317  https://images.gr-assets.com/books/1447303603m...   \n",
       "1    2706317  https://images.gr-assets.com/books/1447303603m...   \n",
       "2    2706317  https://images.gr-assets.com/books/1447303603m...   \n",
       "3    2706317  https://images.gr-assets.com/books/1447303603m...   \n",
       "4    2706317  https://images.gr-assets.com/books/1447303603m...   \n",
       "\n",
       "                                     small_image_url  user_id  rating  \n",
       "0  https://images.gr-assets.com/books/1447303603s...     2886       5  \n",
       "1  https://images.gr-assets.com/books/1447303603s...     6158       5  \n",
       "2  https://images.gr-assets.com/books/1447303603s...     3991       4  \n",
       "3  https://images.gr-assets.com/books/1447303603s...     5281       5  \n",
       "4  https://images.gr-assets.com/books/1447303603s...     5721       5  \n",
       "\n",
       "[5 rows x 25 columns]"
      ]
     },
     "execution_count": 6,
     "metadata": {},
     "output_type": "execute_result"
    }
   ],
   "source": [
    "br = pd.merge(b, r, on = 'book_id')\n",
    "br.head()"
   ]
  },
  {
   "cell_type": "code",
   "execution_count": 7,
   "metadata": {},
   "outputs": [
    {
     "data": {
      "text/plain": [
       "count    5.976479e+06\n",
       "mean     3.919866e+00\n",
       "std      9.910868e-01\n",
       "min      1.000000e+00\n",
       "25%      3.000000e+00\n",
       "50%      4.000000e+00\n",
       "75%      5.000000e+00\n",
       "max      5.000000e+00\n",
       "Name: rating, dtype: float64"
      ]
     },
     "execution_count": 7,
     "metadata": {},
     "output_type": "execute_result"
    }
   ],
   "source": [
    "br.rating.describe()"
   ]
  },
  {
   "cell_type": "code",
   "execution_count": 10,
   "metadata": {},
   "outputs": [
    {
     "name": "stdout",
     "output_type": "stream",
     "text": [
      "<class 'pandas.core.frame.DataFrame'>\n",
      "Int64Index: 5976479 entries, 0 to 5976478\n",
      "Data columns (total 25 columns):\n",
      "book_id                      int64\n",
      "goodreads_book_id            int64\n",
      "best_book_id                 int64\n",
      "work_id                      int64\n",
      "books_count                  int64\n",
      "isbn                         object\n",
      "isbn13                       float64\n",
      "authors                      object\n",
      "original_publication_year    float64\n",
      "original_title               object\n",
      "title                        object\n",
      "language_code                object\n",
      "average_rating               float64\n",
      "ratings_count                int64\n",
      "work_ratings_count           int64\n",
      "work_text_reviews_count      int64\n",
      "ratings_1                    int64\n",
      "ratings_2                    int64\n",
      "ratings_3                    int64\n",
      "ratings_4                    int64\n",
      "ratings_5                    int64\n",
      "image_url                    object\n",
      "small_image_url              object\n",
      "user_id                      int64\n",
      "rating                       int64\n",
      "dtypes: float64(3), int64(15), object(7)\n",
      "memory usage: 1.2+ GB\n"
     ]
    }
   ],
   "source": [
    "br.info()"
   ]
  },
  {
   "cell_type": "markdown",
   "metadata": {},
   "source": [
    "### Fit on the Training data, and predict based on the Test data."
   ]
  },
  {
   "cell_type": "code",
   "execution_count": 9,
   "metadata": {},
   "outputs": [],
   "source": [
    "reader = Reader(rating_scale=(1.0, 5.0))"
   ]
  },
  {
   "cell_type": "code",
   "execution_count": 12,
   "metadata": {},
   "outputs": [],
   "source": [
    "data = Dataset.load_from_df(br[['user_id', 'book_id', 'rating']], reader)"
   ]
  },
  {
   "cell_type": "code",
   "execution_count": 13,
   "metadata": {},
   "outputs": [],
   "source": [
    "trainset, testset = train_test_split(data, test_size=0.25)"
   ]
  },
  {
   "cell_type": "code",
   "execution_count": 17,
   "metadata": {},
   "outputs": [],
   "source": [
    "nmf = NMF()"
   ]
  },
  {
   "cell_type": "code",
   "execution_count": 18,
   "metadata": {},
   "outputs": [
    {
     "data": {
      "text/plain": [
       "<surprise.prediction_algorithms.matrix_factorization.NMF at 0x11f741470>"
      ]
     },
     "execution_count": 18,
     "metadata": {},
     "output_type": "execute_result"
    }
   ],
   "source": [
    "nmf.fit(trainset)"
   ]
  },
  {
   "cell_type": "code",
   "execution_count": 19,
   "metadata": {},
   "outputs": [],
   "source": [
    "predictions = nmf.test(testset)"
   ]
  },
  {
   "cell_type": "markdown",
   "metadata": {},
   "source": [
    "### What is the RMSE for the Training set?"
   ]
  },
  {
   "cell_type": "code",
   "execution_count": 20,
   "metadata": {},
   "outputs": [
    {
     "name": "stdout",
     "output_type": "stream",
     "text": [
      "RMSE: 0.8642\n"
     ]
    },
    {
     "data": {
      "text/plain": [
       "0.8641734687683914"
      ]
     },
     "execution_count": 20,
     "metadata": {},
     "output_type": "execute_result"
    }
   ],
   "source": [
    "accuracy.rmse(predictions)"
   ]
  },
  {
   "cell_type": "markdown",
   "metadata": {},
   "source": [
    "### Which book had the most ratings? The fewest ratings? (The actual name not the ID)"
   ]
  },
  {
   "cell_type": "code",
   "execution_count": 31,
   "metadata": {},
   "outputs": [],
   "source": [
    "rating_counts = br.groupby('original_title').count().rating"
   ]
  },
  {
   "cell_type": "code",
   "execution_count": 39,
   "metadata": {},
   "outputs": [
    {
     "data": {
      "text/plain": [
       "original_title\n",
       "kindle paperwhite user's guide 2nd edition                                                               33\n",
       "進撃の巨人 悔いなき選択 1                                                                                           41\n",
       "Batman Chronicles: Volume 1                                                                              45\n",
       "Manga Classics: Les Misérables                                                                           48\n",
       "The Magic (The Secret #3)                                                                                48\n",
       "How I Raised Myself from Failure to Success in Selling                                                   52\n",
       "Trouble in Mudbug                                                                                        52\n",
       "Travel Team                                                                                              53\n",
       "Hard As It Gets                                                                                          53\n",
       "The summer I turned pretty                                                                               54\n",
       "Deep and Dark and Dangerous: A Ghost Story                                                               54\n",
       "Das Kunstwerk im Zeitalter seiner technischen Reproduzierbarkeit                                         55\n",
       "Die Kunst des klaren Denkens                                                                             57\n",
       "Nikola Tesla: Imagination and the Man That Invented the 20th Century                                     57\n",
       "Graffiti World: Street Art from Five Continents                                                          58\n",
       "A. Lincoln: A Biography                                                                                  59\n",
       "Long Time Coming                                                                                         59\n",
       "The Measure of a Lady                                                                                    59\n",
       "Life is What You Make It: A Story of Love, Hope and How Determination Can Overcome Even Destiny          60\n",
       "First to Kill                                                                                            60\n",
       "Dream Team                                                                                               60\n",
       "of course i love you                                                                                     60\n",
       "Daun Yang Jatuh Tak Pernah Membenci Angin                                                                61\n",
       "Founders at Work: Stories of Startups' Early Days                                                        61\n",
       "Assata: An Autobiography                                                                                 61\n",
       "Rich Dad's Guide to Investing: What the Rich Invest in, That the Poor and the Middle Class Do Not!       61\n",
       "Who Will Cry When You Die? Life Lessons from the Monk Who Sold His Ferrari                               63\n",
       "Zita the Spacegirl                                                                                       63\n",
       "Empress of the World                                                                                     63\n",
       "The Pragmatic Programmer: From Journeyman to Master                                                      63\n",
       "                                                                                                      ...  \n",
       "Divergent                                                                                             11780\n",
       "Of Mice and Men                                                                                       11921\n",
       "Het Achterhuis: Dagboekbrieven 14 juni 1942 - 1 augustus 1944                                         12101\n",
       "Gone Girl                                                                                             12105\n",
       " The Fellowship of the Ring                                                                           12530\n",
       "The Kite Runner                                                                                       12698\n",
       "The Help                                                                                              12727\n",
       "The Da Vinci Code                                                                                     13072\n",
       "The Lion, the Witch and the Wardrobe                                                                  13089\n",
       "Pride and Prejudice                                                                                   13445\n",
       "Angels & Demons                                                                                       13451\n",
       "Lord of the Flies                                                                                     13556\n",
       "Animal Farm: A Fairy Story                                                                            14328\n",
       "Män som hatar kvinnor                                                                                 14382\n",
       "The Catcher in the Rye                                                                                14472\n",
       "Nineteen Eighty-Four                                                                                  14693\n",
       "Harry Potter and the Half-Blood Prince                                                                15081\n",
       "Harry Potter and the Order of the Phoenix                                                             15258\n",
       "Harry Potter and the Deathly Hallows                                                                  15304\n",
       "Harry Potter and the Goblet of Fire                                                                   15523\n",
       "The Hobbit or There and Back Again                                                                    15558\n",
       "Harry Potter and the Chamber of Secrets                                                               15657\n",
       "Harry Potter and the Prisoner of Azkaban                                                              15855\n",
       "Mockingjay                                                                                            15953\n",
       "Catching Fire                                                                                         16549\n",
       "The Great Gatsby                                                                                      16604\n",
       "Twilight                                                                                              17657\n",
       "To Kill a Mockingbird                                                                                 19088\n",
       "Harry Potter and the Philosopher's Stone                                                              21850\n",
       "The Hunger Games                                                                                      22806\n",
       "Name: rating, Length: 9274, dtype: int64"
      ]
     },
     "execution_count": 39,
     "metadata": {},
     "output_type": "execute_result"
    }
   ],
   "source": [
    "rating_counts.sort_values()\n",
    "# least: kindle paperwhite user's guide 2nd edition  \n",
    "# most: The Hunger Games"
   ]
  },
  {
   "cell_type": "markdown",
   "metadata": {},
   "source": [
    "### What is the average number of books read across all users?"
   ]
  },
  {
   "cell_type": "code",
   "execution_count": 55,
   "metadata": {},
   "outputs": [
    {
     "data": {
      "text/plain": [
       "111.86880428271938"
      ]
     },
     "execution_count": 55,
     "metadata": {},
     "output_type": "execute_result"
    }
   ],
   "source": [
    "br.groupby('user_id').count().book_id.mean()"
   ]
  },
  {
   "cell_type": "markdown",
   "metadata": {},
   "source": [
    "### How many books were published between 2000 and 2010?"
   ]
  },
  {
   "cell_type": "code",
   "execution_count": 49,
   "metadata": {},
   "outputs": [
    {
     "data": {
      "text/plain": [
       "3594"
      ]
     },
     "execution_count": 49,
     "metadata": {},
     "output_type": "execute_result"
    }
   ],
   "source": [
    "b[(b.original_publication_year >= 2000) & (b.original_publication_year <= 2010)].count().book_id"
   ]
  },
  {
   "cell_type": "markdown",
   "metadata": {},
   "source": [
    "### What are the top 10 most similar books to \"The Great Gatsby\"? You will have to use a KNN-based model to answer this? Print out the actual book names, not their IDs."
   ]
  },
  {
   "cell_type": "code",
   "execution_count": 56,
   "metadata": {},
   "outputs": [],
   "source": [
    "knn = KNNBaseline(sim_options = {'name': 'cosine', 'user_based':False})"
   ]
  },
  {
   "cell_type": "code",
   "execution_count": 57,
   "metadata": {},
   "outputs": [
    {
     "name": "stdout",
     "output_type": "stream",
     "text": [
      "Estimating biases using als...\n",
      "Computing the cosine similarity matrix...\n",
      "Done computing similarity matrix.\n"
     ]
    },
    {
     "data": {
      "text/plain": [
       "<surprise.prediction_algorithms.knns.KNNBaseline at 0x1564c7e48>"
      ]
     },
     "execution_count": 57,
     "metadata": {},
     "output_type": "execute_result"
    }
   ],
   "source": [
    "knn.fit(trainset)"
   ]
  },
  {
   "cell_type": "code",
   "execution_count": 64,
   "metadata": {},
   "outputs": [
    {
     "data": {
      "text/plain": [
       "list"
      ]
     },
     "execution_count": 64,
     "metadata": {},
     "output_type": "execute_result"
    }
   ],
   "source": [
    "GG_ids = knn.get_neighbors(5, 10)\n",
    "type(GG_ids)"
   ]
  },
  {
   "cell_type": "code",
   "execution_count": 93,
   "metadata": {},
   "outputs": [
    {
     "data": {
      "text/plain": [
       "15      The Girl with the Dragon Tattoo (Millennium, #1)\n",
       "26     Harry Potter and the Half-Blood Prince (Harry ...\n",
       "125                            Dune (Dune Chronicles #1)\n",
       "266                                      The Nightingale\n",
       "309                     Good in Bed (Cannie Shapiro, #1)\n",
       "332                                          Still Alice\n",
       "336        The Ultimate Hitchhiker's Guide to the Galaxy\n",
       "395              Hotel on the Corner of Bitter and Sweet\n",
       "565                        After You (Me Before You, #2)\n",
       "567    Batman: The Dark Knight Returns (The Dark Knig...\n",
       "Name: title, dtype: object"
      ]
     },
     "execution_count": 93,
     "metadata": {},
     "output_type": "execute_result"
    }
   ],
   "source": [
    "b.loc[b.book_id.isin(GG_ids)].title"
   ]
  },
  {
   "cell_type": "markdown",
   "metadata": {},
   "source": [
    "### What are the top 5 books you would recommend to User #37? (The actual book names, not IDs)"
   ]
  },
  {
   "cell_type": "code",
   "execution_count": 71,
   "metadata": {},
   "outputs": [],
   "source": [
    "top_n = get_top_n(predictions, n = 5)"
   ]
  },
  {
   "cell_type": "code",
   "execution_count": 88,
   "metadata": {},
   "outputs": [
    {
     "data": {
      "text/plain": [
       "[(110, 4.77235929698858),\n",
       " (143, 4.624305382281158),\n",
       " (215, 4.588993061930992),\n",
       " (17, 4.508182023061381),\n",
       " (39, 4.451183137384545)]"
      ]
     },
     "execution_count": 88,
     "metadata": {},
     "output_type": "execute_result"
    }
   ],
   "source": [
    "user_dict = top_n[37]\n",
    "user_dict"
   ]
  },
  {
   "cell_type": "code",
   "execution_count": 90,
   "metadata": {},
   "outputs": [
    {
     "data": {
      "text/plain": [
       "[110, 143, 215, 17, 39]"
      ]
     },
     "execution_count": 90,
     "metadata": {},
     "output_type": "execute_result"
    }
   ],
   "source": [
    "recs = [elem[0] for elem in user_dict]\n",
    "recs"
   ]
  },
  {
   "cell_type": "code",
   "execution_count": 94,
   "metadata": {},
   "outputs": [
    {
     "data": {
      "text/plain": [
       "16               Catching Fire (The Hunger Games, #2)\n",
       "38     A Game of Thrones (A Song of Ice and Fire, #1)\n",
       "109    A Clash of Kings  (A Song of Ice and Fire, #2)\n",
       "142                       All the Light We Cannot See\n",
       "214                                  Ready Player One\n",
       "Name: title, dtype: object"
      ]
     },
     "execution_count": 94,
     "metadata": {},
     "output_type": "execute_result"
    }
   ],
   "source": [
    "b.loc[b.book_id.isin(recs)].title"
   ]
  }
 ],
 "metadata": {
  "kernelspec": {
   "display_name": "Python 3",
   "language": "python",
   "name": "python3"
  },
  "language_info": {
   "codemirror_mode": {
    "name": "ipython",
    "version": 3
   },
   "file_extension": ".py",
   "mimetype": "text/x-python",
   "name": "python",
   "nbconvert_exporter": "python",
   "pygments_lexer": "ipython3",
   "version": "3.7.1"
  }
 },
 "nbformat": 4,
 "nbformat_minor": 2
}
